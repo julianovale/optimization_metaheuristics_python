{
  "nbformat": 4,
  "nbformat_minor": 0,
  "metadata": {
    "colab": {
      "name": "0001_simulated_annealing_continuous_problem_#1.ipynb",
      "provenance": [],
      "collapsed_sections": [],
      "authorship_tag": "ABX9TyNuN9KLsjtpOcT0LPYK3HA3",
      "include_colab_link": true
    },
    "kernelspec": {
      "name": "python3",
      "display_name": "Python 3"
    }
  },
  "cells": [
    {
      "cell_type": "markdown",
      "metadata": {
        "id": "view-in-github",
        "colab_type": "text"
      },
      "source": [
        "<a href=\"https://colab.research.google.com/github/julianovale/optimization_metaheuristics_python/blob/master/0001_simulated_annealing_continuous_problem__1.ipynb\" target=\"_parent\"><img src=\"https://colab.research.google.com/assets/colab-badge.svg\" alt=\"Open In Colab\"/></a>"
      ]
    },
    {
      "cell_type": "markdown",
      "metadata": {
        "id": "lt1QI1eDkBAg",
        "colab_type": "text"
      },
      "source": [
        "# Simulated annealing continuos problem\n",
        "\n",
        "Função objetivo: Função de Himmelblau\n",
        "\n",
        "Min Z = ((x^2)+y-11)^2+(x+(y^2)-7)^2\n"
      ]
    },
    {
      "cell_type": "code",
      "metadata": {
        "id": "z6txrRtQiewl",
        "colab_type": "code",
        "colab": {}
      },
      "source": [
        "import numpy as np\n",
        "import matplotlib.pyplot as plt"
      ],
      "execution_count": 2,
      "outputs": []
    },
    {
      "cell_type": "code",
      "metadata": {
        "id": "QqvPIRtajjD7",
        "colab_type": "code",
        "colab": {
          "base_uri": "https://localhost:8080/",
          "height": 34
        },
        "outputId": "be0f3ffc-e95d-4341-d7f5-fcb1587d4725"
      },
      "source": [
        "np.seterr(divide=\"ignore\") # ignora a mensagem de erro de divisão por zero"
      ],
      "execution_count": 3,
      "outputs": [
        {
          "output_type": "execute_result",
          "data": {
            "text/plain": [
              "{'divide': 'warn', 'invalid': 'warn', 'over': 'warn', 'under': 'ignore'}"
            ]
          },
          "metadata": {
            "tags": []
          },
          "execution_count": 3
        }
      ]
    },
    {
      "cell_type": "code",
      "metadata": {
        "id": "9DEOt87ej3lF",
        "colab_type": "code",
        "colab": {}
      },
      "source": [
        "# parâmetros iniciais\n",
        "x = 2 # x inicial\n",
        "y = 1 # y inicial"
      ],
      "execution_count": 4,
      "outputs": []
    },
    {
      "cell_type": "code",
      "metadata": {
        "id": "uFwjqTi_lX4g",
        "colab_type": "code",
        "colab": {}
      },
      "source": [
        "# função objetivo\n",
        "z = ((x**2)+y-11)**2+(x+(y**2)-7)**2"
      ],
      "execution_count": 5,
      "outputs": []
    },
    {
      "cell_type": "code",
      "metadata": {
        "id": "82Rn8LgvlsOp",
        "colab_type": "code",
        "colab": {
          "base_uri": "https://localhost:8080/",
          "height": 68
        },
        "outputId": "d495a04b-401f-4ae9-9fa7-cbc7675e9f98"
      },
      "source": [
        "print(\"O x inicial é: %0.3f\" %x)\n",
        "print(\"O y inicial é: %0.3f\" %y)\n",
        "print(\"O z inicial é: %0.3f\" %z)"
      ],
      "execution_count": 6,
      "outputs": [
        {
          "output_type": "stream",
          "text": [
            "O x inicial é: 2.000\n",
            "O y inicial é: 1.000\n",
            "O z inicial é: 52.000\n"
          ],
          "name": "stdout"
        }
      ]
    },
    {
      "cell_type": "code",
      "metadata": {
        "id": "_jtYkOGJZTO-",
        "colab_type": "code",
        "colab": {}
      },
      "source": [
        "# hiperparâmetros\n",
        "T0 = 1000 # temperatura \"temp.\"\n",
        "temp_for_plot = T0 # para plotagem\n",
        "M = 300 # quantas vezes você quer diminuir a temperatura\n",
        "N = 15 # quantas vezes você quer procurar na vizinhança\n",
        "alpha = 0.85 # por quanto você quer diminuir a temperatura.\n",
        "             # quando você aumenta m (minúsculo) em 1\n",
        "k = 0.1 # ajuda você a reduzir o tamanho do passo (um multiplicador)"
      ],
      "execution_count": 7,
      "outputs": []
    },
    {
      "cell_type": "code",
      "metadata": {
        "id": "fbz2DLexdktj",
        "colab_type": "code",
        "colab": {}
      },
      "source": [
        "# para a plotagem\n",
        "temp = [] # uma lista vazia para armazenar as temperaturas para uma plotagem\n",
        "obj_val = [] # para plottar o valores objetos alcançados a cada 'm'"
      ],
      "execution_count": 8,
      "outputs": []
    },
    {
      "cell_type": "code",
      "metadata": {
        "id": "PQQ3IXHyeR5j",
        "colab_type": "code",
        "colab": {}
      },
      "source": [
        "for i in range(M): # passo M\n",
        "  for j in range(N): # passo N\n",
        "    # para a variável de decisão x\n",
        "    rand_num_x_1 = np.random.rand() # aumenta ou diminui x?\n",
        "    rand_num_x_2 = np.random.rand() # por quanto?\n",
        "    if rand_num_x_1 >= 0.5:\n",
        "      step_size_x = k * rand_num_x_2 # aumenta\n",
        "    else:\n",
        "      step_size_x = -k * rand_num_x_2 # diminui\n",
        "    # para a variável de decisão y\n",
        "    rand_num_y_1 = np.random.rand() # aumenta ou diminui y?\n",
        "    rand_num_y_2 = np.random.rand() # por quanto?\n",
        "    if rand_num_y_1 >= 0.5:\n",
        "      step_size_y = k * rand_num_y_2 # aumenta\n",
        "    else:\n",
        "      step_size_y = -k * rand_num_y_2 # diminui"
      ],
      "execution_count": null,
      "outputs": []
    }
  ]
}