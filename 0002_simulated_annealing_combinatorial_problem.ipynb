{
  "nbformat": 4,
  "nbformat_minor": 0,
  "metadata": {
    "colab": {
      "name": "0002_simulated_annealing_combinatorial_problem.ipynb",
      "provenance": [],
      "collapsed_sections": [],
      "authorship_tag": "ABX9TyMj0H+sXjRup7xyu2ME8IPN",
      "include_colab_link": true
    },
    "kernelspec": {
      "name": "python3",
      "display_name": "Python 3"
    }
  },
  "cells": [
    {
      "cell_type": "markdown",
      "metadata": {
        "id": "view-in-github",
        "colab_type": "text"
      },
      "source": [
        "<a href=\"https://colab.research.google.com/github/julianovale/optimization_metaheuristics_python/blob/master/0002_simulated_annealing_combinatorial_problem.ipynb\" target=\"_parent\"><img src=\"https://colab.research.google.com/assets/colab-badge.svg\" alt=\"Open In Colab\"/></a>"
      ]
    },
    {
      "cell_type": "markdown",
      "metadata": {
        "id": "nub3u6mIs3Oh",
        "colab_type": "text"
      },
      "source": [
        "# Simulated annealing combinatorial problem\n",
        "\n",
        "Existem 8 departamentos para serem alocados em duas linhas, com 4 departamentos em cada. Essa localização determina a distância entre eles.\n",
        "\n",
        "Além da distância, existe o fluxo entre estes departamentos. O fluxo é fixo, não pode ser modificado.\n",
        "\n",
        "Função objetivo é a minimização do custo, que é expresso por:\n",
        "\n",
        "cost = distance * flow\n",
        "\n",
        "Link da matriz de distância e fluxo:\n",
        "\n",
        "https://github.com/julianovale/optimization_metaheuristics_python/blob/master/Quadratic_Assignment_Problem_02.png"
      ]
    },
    {
      "cell_type": "code",
      "metadata": {
        "id": "f5RodIyJstgV",
        "colab_type": "code",
        "colab": {}
      },
      "source": [
        "import numpy as np\n",
        "import pandas as pd\n",
        "import matplotlib.pyplot as plt\n",
        "from datetime import datetime"
      ],
      "execution_count": 28,
      "outputs": []
    },
    {
      "cell_type": "code",
      "metadata": {
        "id": "Rrm-oqQltPa2",
        "colab_type": "code",
        "colab": {}
      },
      "source": [
        "# criando as matrizes de distância e de fluxo\n",
        "Dist = pd.DataFrame([[0,1,2,3,1,2,3,4],[1,0,1,2,2,1,2,3],[2,1,0,1,3,2,1,2],\n",
        "                      [3,2,1,0,4,3,2,1],[1,2,3,4,0,1,2,3],[2,1,2,3,1,0,1,2],\n",
        "                      [3,2,1,2,2,1,0,1],[4,3,2,1,3,2,1,0]],\n",
        "                    columns=[\"A\",\"B\",\"C\",\"D\",\"E\",\"F\",\"G\",\"H\"],\n",
        "                    index=[\"A\",\"B\",\"C\",\"D\",\"E\",\"F\",\"G\",\"H\"])\n",
        "Flow = pd.DataFrame([[0,5,2,4,1,0,0,6],[5,0,3,0,2,2,2,0],[2,3,0,0,0,0,0,5],\n",
        "                      [4,0,0,0,5,2,2,10],[1,2,0,5,0,10,0,0],[0,2,0,2,10,0,5,1],\n",
        "                      [0,2,0,2,0,5,0,10],[6,0,5,10,0,1,10,0]],\n",
        "                    columns=[\"A\",\"B\",\"C\",\"D\",\"E\",\"F\",\"G\",\"H\"],\n",
        "                    index=[\"A\",\"B\",\"C\",\"D\",\"E\",\"F\",\"G\",\"H\"])"
      ],
      "execution_count": 29,
      "outputs": []
    },
    {
      "cell_type": "code",
      "metadata": {
        "id": "X71Szx4hyZXV",
        "colab_type": "code",
        "colab": {}
      },
      "source": [
        "# hiperparâmetros (verificar arquivo 0001_simulated_annealing_continuos_problem para verificar entender)\n",
        "T0 = 1500\n",
        "M = 250\n",
        "N = 20\n",
        "alpha = 0.9"
      ],
      "execution_count": 30,
      "outputs": []
    },
    {
      "cell_type": "code",
      "metadata": {
        "id": "lzRrH9hVy8yM",
        "colab_type": "code",
        "colab": {}
      },
      "source": [
        "# solução inicial\n",
        "X0 = [\"B\", \"D\", \"A\", \"E\", \"C\", \"F\", \"G\", \"H\"] # preciso registrar uma solução inicial qualquer, não precisa ser uma boa solução"
      ],
      "execution_count": 31,
      "outputs": []
    },
    {
      "cell_type": "code",
      "metadata": {
        "id": "Pc_p5ulUzlrD",
        "colab_type": "code",
        "colab": {}
      },
      "source": [
        "# fazendo um DataFrame da solução inicial\n",
        "New_Dist_DF = Dist.reindex(columns= X0, index= X0)\n",
        "New_Dist_Arr = np.array(New_Dist_DF)"
      ],
      "execution_count": 32,
      "outputs": []
    },
    {
      "cell_type": "code",
      "metadata": {
        "id": "c0iOLYK70Wvz",
        "colab_type": "code",
        "colab": {
          "base_uri": "https://localhost:8080/",
          "height": 34
        },
        "outputId": "948c9eb9-1f33-439d-b15a-6400e62956f7"
      },
      "source": [
        "# calculando o custo da solução inicial\n",
        "Objfun1_start = pd.DataFrame(New_Dist_Arr * Flow)\n",
        "Objfun1_start_Arr = np.array(Objfun1_start)\n",
        "sum_start = sum(sum(Objfun1_start_Arr)) # a soma interna soma todos os elementos por linha, a externa soma essas somas de linhas.\n",
        "print(\"Custo da solução inicial: \", sum_start)"
      ],
      "execution_count": 33,
      "outputs": [
        {
          "output_type": "stream",
          "text": [
            "Custo da solução inicial:  336\n"
          ],
          "name": "stdout"
        }
      ]
    },
    {
      "cell_type": "code",
      "metadata": {
        "id": "3jfEuLVH1KIl",
        "colab_type": "code",
        "colab": {}
      },
      "source": [
        "# para a posterior plotagem, crio listas vazias\n",
        "Temp = []\n",
        "Min_Cost = []"
      ],
      "execution_count": 34,
      "outputs": []
    },
    {
      "cell_type": "code",
      "metadata": {
        "id": "trYq8pSM2Smt",
        "colab_type": "code",
        "colab": {}
      },
      "source": [
        "# busco a solução\n",
        "momento_inicio = datetime.now()\n",
        "for i in range(M):\n",
        "    for j in range(N):\n",
        "        # cria-se dois números aleatórios **inteiros** para trocar a posição de 2 dos departamentos, o \"len(X0)\" garante que será no máximo 8 (número de deptos.)\n",
        "        ran_1 = np.random.randint(0,len(X0))\n",
        "        ran_2 = np.random.randint(0,len(X0))\n",
        "       \n",
        "        while ran_1==ran_2:\n",
        "            ran_2 = np.random.randint(0,len(X0)) # se o número aleatório ran_2 = ran_1 cria outro ran_2... até que seja diferente\n",
        "        \n",
        "        xt = [] # cria-se para armazenar a nova solução\n",
        "        \n",
        "        A1 = X0[ran_1] # atribui na variável A1, o depto na posição escolhida aleatoriamente (ran_1)\n",
        "        A2 = X0[ran_2] # atribui na variável A2, o depto na posição escolhida aleatoriamente (ran_2)\n",
        "\n",
        "        # Fazendo uma nov lista de departamentos\n",
        "        \n",
        "        w = 0 # para navegar na posição (0 a 7) em X0 (solução inicial)\n",
        "        for i in X0:\n",
        "            if X0[w]==A1:\n",
        "                xt = np.append(xt,A2) # se a posição w em X0 é igual a A1, troca-se por A2\n",
        "            elif X0[w]==A2:\n",
        "                xt = np.append(xt,A1) # se a posição w em X0 é igual a A2, troca-se por A1\n",
        "            else:\n",
        "                xt=np.append(xt,X0[w]) # caso contrário, mantém-se o valor da posição\n",
        "            w = w+1 # atualiza-se a posição w\n",
        "\n",
        "        # cria um dataframe com as distâncias da solução atual\n",
        "        new_dis_df_init = Dist.reindex(columns=X0, index=X0)\n",
        "        new_dis_init_arr = np.array(new_dis_df_init)\n",
        "        \n",
        "        # cria um dataframe com as distâncias da nova solução\n",
        "        new_dis_df_new = Dist.reindex(columns=xt, index=xt)\n",
        "        new_dis_new_arr = np.array(new_dis_df_new)\n",
        "        \n",
        "        # cria um dataframe com as distâncias multiplicadas pelo fluxo (solução atual)\n",
        "        objfun_init = pd.DataFrame(new_dis_init_arr*Flow)\n",
        "        objfun_init_arr = np.array(objfun_init)\n",
        "        \n",
        "        # cria um dataframe com as distâncias multiplicadas pelo fluxo (nova solução)\n",
        "        objfun_new = pd.DataFrame(new_dis_new_arr*Flow)\n",
        "        objfun_new_arr = np.array(objfun_new)\n",
        "        \n",
        "        sum_init = sum(sum(objfun_init_arr)) # calcula-se o custo da solução atual\n",
        "        sum_new = sum(sum(objfun_new_arr)) # calcula-se o custo da nova solução\n",
        "        \n",
        "        # no caso da solução temporária ser pior, preciso verificar se vou acatá-la ou não:\n",
        "        rand1 = np.random.rand()\n",
        "        # a formula abaixo vai nos dizer, caso a solução temporária seja pior, se vou acatá-la ou não:\n",
        "        # quanto mais próximo do final da busca (mais baixa a temperatura T0), menos provável de aceitar uma solução pior,\n",
        "        # porque é mais provável que o número aleatório seja maior\n",
        "        form = 1/(np.exp(sum_new-sum_init)/T0)\n",
        "        \n",
        "        if sum_new<=sum_init: # <= porque é uma solução de minimização\n",
        "            X0=xt # troca-se já que a nova solução é melhor\n",
        "        elif rand1<=form: # se a solução temporária é pior que a solução atual, será acatada mesmo sendo pior\n",
        "            X0=xt # troca-se apesar de ser pior, mais quanto menor a temperatura, menos provável que isso aconteça\n",
        "        else: # caso contrário, segue o jogo sem atualizar a solução\n",
        "            X0=X0\n",
        "        \n",
        "    Temp.append(T0) # adiciona-se solução para plotagem\n",
        "    Min_Cost.append(sum_init) # adiciona-se o custo da solução para plotagem\n",
        "    \n",
        "    T0 = alpha*T0 # atualiza-se a temperatura (vai caindo...)\n",
        "    tempo_gasto = datetime.now() - momento_inicio # calcula-se o tempo de processamento"
      ],
      "execution_count": 35,
      "outputs": []
    },
    {
      "cell_type": "code",
      "metadata": {
        "id": "7uiQ_CYR3CzH",
        "colab_type": "code",
        "colab": {
          "base_uri": "https://localhost:8080/",
          "height": 376
        },
        "outputId": "4e6f5161-b2c7-44f1-8184-3f74784154d5"
      },
      "source": [
        "# plotagens\n",
        "print()\n",
        "print(\"Final Solution:\",X0)\n",
        "print(\"Minimized Cost:\",sum_init)\n",
        "print(\"Tempo de processamento: \", tempo_gasto)\n",
        "        \n",
        "plt.plot(Temp,Min_Cost)\n",
        "plt.title(\"Cost vs. Temp.\", fontsize=20,fontweight='bold')\n",
        "plt.xlabel(\"Temp.\", fontsize=18,fontweight='bold')\n",
        "plt.ylabel(\"Cost\", fontsize=18,fontweight='bold')\n",
        "plt.xlim(1500,0)\n",
        "\n",
        "plt.xticks(np.arange(min(Temp),max(Temp),100),fontweight='bold')\n",
        "plt.yticks(fontweight='bold')\n",
        "plt.show()"
      ],
      "execution_count": 36,
      "outputs": [
        {
          "output_type": "stream",
          "text": [
            "\n",
            "Final Solution: ['B' 'A' 'E' 'C' 'D' 'H' 'G' 'F']\n",
            "Minimized Cost: 214\n",
            "Tempo de processamento:  0:00:17.157439\n"
          ],
          "name": "stdout"
        },
        {
          "output_type": "display_data",
          "data": {
            "image/png": "[encoded data removed]",
            "text/plain": [
              "<Figure size 432x288 with 1 Axes>"
            ]
          },
          "metadata": {
            "tags": [],
            "needs_background": "light"
          }
        }
      ]
    }
  ]
}