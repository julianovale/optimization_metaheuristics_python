{
  "nbformat": 4,
  "nbformat_minor": 0,
  "metadata": {
    "colab": {
      "name": "0003_TravelingSalesmanProblem.ipynb",
      "provenance": [],
      "collapsed_sections": [],
      "authorship_tag": "ABX9TyMll+e841n0VIpW8HqlX8rH",
      "include_colab_link": true
    },
    "kernelspec": {
      "name": "python3",
      "display_name": "Python 3"
    }
  },
  "cells": [
    {
      "cell_type": "markdown",
      "metadata": {
        "id": "view-in-github",
        "colab_type": "text"
      },
      "source": [
        "<a href=\"https://colab.research.google.com/github/julianovale/optimization_metaheuristics_python/blob/master/0003_TravelingSalesmanProblem.ipynb\" target=\"_parent\"><img src=\"https://colab.research.google.com/assets/colab-badge.svg\" alt=\"Open In Colab\"/></a>"
      ]
    },
    {
      "cell_type": "markdown",
      "metadata": {
        "id": "IlH81LvrEtsu"
      },
      "source": [
        "Matriz:\n",
        "https://github.com/julianovale/optimization_metaheuristics_python/blob/master/travelingsalesmanproblem_matrix.jpg"
      ]
    },
    {
      "cell_type": "code",
      "metadata": {
        "id": "W3WQMah7D_fV",
        "outputId": "47a6cbf5-8588-4fe7-e359-ff919cadd501",
        "colab": {
          "base_uri": "https://localhost:8080/",
          "height": 376
        }
      },
      "source": [
        "import numpy as np\n",
        "import pandas as pd\n",
        "import matplotlib.pyplot as plt\n",
        "\n",
        "\n",
        "Data1 = pd.DataFrame([[0,75,99,9,35,63,8],[51,0,86,46,88,29,20],[100,5,0,16,28,35,28],\n",
        "                      [20,45,11,0,59,53,49],[86,63,33,65,0,76,72],[36,53,89,31,21,0,52],\n",
        "                      [58,31,43,67,52,60,0]], columns=[\"A\",\"B\",\"C\",\"D\",\"E\",\"F\",\"G\"],\n",
        "                     index=[\"A\",\"B\",\"C\",\"D\",\"E\",\"F\",\"G\"]) \n",
        "\n",
        "\n",
        "X0 = [\"A\",\"B\",\"C\",\"D\",\"E\",\"F\",\"G\"] \n",
        "\n",
        "Distances = [] \n",
        "t = 0\n",
        "for i in range(len(X0)-1):\n",
        "    X1 = Data1.loc[X0[t],X0[t+1]] # Each city and the city after it\n",
        "    X11 = Data1.loc[X0[-1],X0[0]] # The last city to the first city\n",
        "    Distances.append(X1) # Append the distances\n",
        "    t = t+1\n",
        "\n",
        "Distances.append(X11) # Append the distance of the last city with the first one\n",
        "Length_of_Travel = sum(Distances) # Add up the distances\n",
        "\n",
        "print(\"Length_of_Travel:\",Length_of_Travel)\n",
        "\n",
        "### PARAMETERS ###\n",
        "\n",
        "T0 = 3000\n",
        "M = 1000\n",
        "N = 50\n",
        "Alpha = 0.85\n",
        "\n",
        "# For visualization\n",
        "Temp = []\n",
        "Min_Distance = []\n",
        "\n",
        "\n",
        "for i in range(M):\n",
        "    for j in range(N):\n",
        "        # To generate random integers in order to swap cities\n",
        "        Ran1 = np.random.randint(0,len(X0))\n",
        "        Ran2 = np.random.randint(0,len(X0))\n",
        "        while Ran1 == Ran2:\n",
        "            Ran2 = np.random.randint(0,len(X0))\n",
        "        \n",
        "        Xtemp = []\n",
        "        A1 = X0[Ran1] # Select the city to swap\n",
        "        A2 = X0[Ran2] # Select the city to swap\n",
        "        \n",
        "        # [\"A\",\"C\",\"G\",\"D\",\"E\",\"B\",\"F\"]\n",
        "        \n",
        "        # Making a new list of the new set of cities\n",
        "        w = 0\n",
        "        for i in X0:\n",
        "            if X0[w]==A1:\n",
        "                Xtemp=np.append(Xtemp,A2)\n",
        "            elif X0[w]==A2:\n",
        "                Xtemp=np.append(Xtemp,A1)\n",
        "            else:\n",
        "                Xtemp=np.append(Xtemp,X0[w])\n",
        "            w = w+1\n",
        "        \n",
        "        Xtemp = list(Xtemp)\n",
        "        \n",
        "        \n",
        "        \n",
        "        Distances_X0 = [] # The OF of the solution in hand\n",
        "        t = 0\n",
        "        for i in range(len(X0)-1):\n",
        "            X1_1 = Data1.loc[X0[t],X0[t+1]] # Each city and the city after it\n",
        "            X11 = Data1.loc[X0[-1],X0[0]] # The last city to the first city\n",
        "            Distances_X0.append(X1_1) # Append the distances\n",
        "            t = t+1\n",
        "        \n",
        "        Distances_X0.append(X11) # Append the distance of the last city with the first one\n",
        "        Len_X0 = sum(Distances_X0) # Add up the distances\n",
        "        \n",
        "        \n",
        "        Distances_Xtemp = [] # The OF of the potential solution (n+1)\n",
        "        t = 0\n",
        "        for i in range(len(Xtemp)-1):\n",
        "            X1_2 = Data1.loc[Xtemp[t],Xtemp[t+1]] # Each city and the city after it\n",
        "            X11 = Data1.loc[Xtemp[-1],Xtemp[0]] # The last city to the first city\n",
        "            Distances_Xtemp.append(X1_2) # Append the distances\n",
        "            t = t+1\n",
        "        \n",
        "        Distances_Xtemp.append(X11) # Append the distance of the last city with the first one\n",
        "        Len_Xtemp = sum(Distances_Xtemp) # Add up the distances\n",
        "        \n",
        "        \n",
        "        rand_num = np.random.rand() # RN for the formula below\n",
        "        form_1 = 1/(np.exp((Len_Xtemp-Len_X0)/T0)) # The formula to accept moves\n",
        "        \n",
        "        if Len_Xtemp <= Len_X0: # If the OF of the potential solution was better (less)\n",
        "            X0 = Xtemp\n",
        "        \n",
        "        elif rand_num <= form_1: # If the RN was less than the formula\n",
        "            X0 = Xtemp\n",
        "        \n",
        "        else: # Don't accept the potential solution and stay where you are\n",
        "            X0 = X0\n",
        "            \n",
        "    Temp = np.append(Temp, T0) # Append temps. for visualization\n",
        "    Min_Distance = np.append(Min_Distance,Len_Xtemp) # Append costs for visualization\n",
        "    \n",
        "    T0 = Alpha*T0 # Decrease the temp.\n",
        "    \n",
        "    \n",
        "    \n",
        "    \n",
        "    \n",
        "\n",
        "print\n",
        "print\n",
        "print(\"Final Solution is: \", X0)\n",
        "print(\"Minimized Distance at Final Solution is: \", Len_X0)\n",
        "\n",
        "\n",
        "plt.plot(Temp,Min_Distance)\n",
        "plt.title(\"Distance vs. Temperature\",fontsize=20,fontweight='bold')\n",
        "plt.xlabel(\"Temperature\",fontsize=18,fontweight='bold')\n",
        "plt.ylabel(\"Distance\",fontsize=18,fontweight='bold')\n",
        "plt.xlim(3000, 0)\n",
        "plt.xticks(np.arange(min(Temp), max(Temp), 100),fontweight='bold')\n",
        "plt.yticks(fontweight='bold')\n",
        "plt.show()\n"
      ],
      "execution_count": 12,
      "outputs": [
        {
          "output_type": "stream",
          "text": [
            "Length_of_Travel: 422\n"
          ],
          "name": "stdout"
        },
        {
          "output_type": "stream",
          "text": [
            "/usr/local/lib/python3.6/dist-packages/ipykernel_launcher.py:93: RuntimeWarning: overflow encountered in exp\n"
          ],
          "name": "stderr"
        },
        {
          "output_type": "stream",
          "text": [
            "Final Solution is:  ['E', 'C', 'D', 'A', 'G', 'B', 'F']\n",
            "Minimized Distance at Final Solution is:  158\n"
          ],
          "name": "stdout"
        },
        {
          "output_type": "display_data",
          "data": {
            "image/png": "[encoded data removed]",
            "text/plain": [
              "<Figure size 432x288 with 1 Axes>"
            ]
          },
          "metadata": {
            "tags": [],
            "needs_background": "light"
          }
        }
      ]
    }
  ]
}