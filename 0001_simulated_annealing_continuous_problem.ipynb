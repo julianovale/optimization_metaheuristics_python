{
  "nbformat": 4,
  "nbformat_minor": 0,
  "metadata": {
    "colab": {
      "name": "0001_simulated_annealing_continuous_problem.ipynb",
      "provenance": [],
      "collapsed_sections": [],
      "authorship_tag": "ABX9TyNY+aAGRVytTpzMOnRdtcGM",
      "include_colab_link": true
    },
    "kernelspec": {
      "name": "python3",
      "display_name": "Python 3"
    }
  },
  "cells": [
    {
      "cell_type": "markdown",
      "metadata": {
        "id": "view-in-github",
        "colab_type": "text"
      },
      "source": [
        "<a href=\"https://colab.research.google.com/github/julianovale/optimization_metaheuristics_python/blob/master/0001_simulated_annealing_continuous_problem.ipynb\" target=\"_parent\"><img src=\"https://colab.research.google.com/assets/colab-badge.svg\" alt=\"Open In Colab\"/></a>"
      ]
    },
    {
      "cell_type": "markdown",
      "metadata": {
        "id": "lt1QI1eDkBAg"
      },
      "source": [
        "# Simulated annealing continuos problem\n",
        "\n",
        "Função objetivo: Função de Himmelblau\n",
        "\n",
        "Min Z = ((x^2)+y-11)^2+(x+(y^2)-7)^2\n"
      ]
    },
    {
      "cell_type": "code",
      "metadata": {
        "id": "z6txrRtQiewl"
      },
      "source": [
        "import numpy as np\n",
        "import matplotlib.pyplot as plt\n",
        "from datetime import datetime"
      ],
      "execution_count": 1,
      "outputs": []
    },
    {
      "cell_type": "code",
      "metadata": {
        "id": "QqvPIRtajjD7",
        "colab": {
          "base_uri": "https://localhost:8080/"
        },
        "outputId": "991f7faa-1b07-4d4d-a63c-a1c30326eeb2"
      },
      "source": [
        "np.seterr(divide=\"ignore\") # ignora a mensagem de erro de divisão por zero"
      ],
      "execution_count": 2,
      "outputs": [
        {
          "output_type": "execute_result",
          "data": {
            "text/plain": [
              "{'divide': 'warn', 'invalid': 'warn', 'over': 'warn', 'under': 'ignore'}"
            ]
          },
          "metadata": {
            "tags": []
          },
          "execution_count": 2
        }
      ]
    },
    {
      "cell_type": "code",
      "metadata": {
        "id": "9DEOt87ej3lF"
      },
      "source": [
        "# parâmetros iniciais\n",
        "x = 2 # x inicial\n",
        "y = 1 # y inicial"
      ],
      "execution_count": 3,
      "outputs": []
    },
    {
      "cell_type": "code",
      "metadata": {
        "id": "uFwjqTi_lX4g"
      },
      "source": [
        "# função objetivo\n",
        "z = ((x**2)+y-11)**2+(x+(y**2)-7)**2"
      ],
      "execution_count": 4,
      "outputs": []
    },
    {
      "cell_type": "code",
      "metadata": {
        "id": "82Rn8LgvlsOp",
        "colab": {
          "base_uri": "https://localhost:8080/"
        },
        "outputId": "f27ade1b-9073-405d-8612-dfef3387190c"
      },
      "source": [
        "print(\"O x inicial é: %0.3f\" %x)\n",
        "print(\"O y inicial é: %0.3f\" %y)\n",
        "print(\"O z inicial é: %0.3f\" %z)"
      ],
      "execution_count": 5,
      "outputs": [
        {
          "output_type": "stream",
          "text": [
            "O x inicial é: 2.000\n",
            "O y inicial é: 1.000\n",
            "O z inicial é: 52.000\n"
          ],
          "name": "stdout"
        }
      ]
    },
    {
      "cell_type": "code",
      "metadata": {
        "id": "_jtYkOGJZTO-"
      },
      "source": [
        "# hiperparâmetros\n",
        "T0 = 1000 # temperatura \"temp.\"\n",
        "temp_for_plot = T0 # para plotagem\n",
        "M = 300 # quantas vezes você quer diminuir a temperatura\n",
        "N = 15 # quantas vezes você quer procurar na vizinhança\n",
        "alpha = 0.85 # por quanto você quer diminuir a temperatura.\n",
        "             # quando você aumenta m (minúsculo) em 1\n",
        "k = 0.1 # ajuda você a reduzir o tamanho do passo (um multiplicador)"
      ],
      "execution_count": 6,
      "outputs": []
    },
    {
      "cell_type": "code",
      "metadata": {
        "id": "fbz2DLexdktj"
      },
      "source": [
        "# para a plotagem\n",
        "temp = [] # uma lista vazia para armazenar as temperaturas para uma plotagem\n",
        "obj_val = [] # para plottar o valores objetos alcançados a cada 'm'"
      ],
      "execution_count": 7,
      "outputs": []
    },
    {
      "cell_type": "code",
      "metadata": {
        "id": "PQQ3IXHyeR5j",
        "colab": {
          "base_uri": "https://localhost:8080/",
          "height": 495
        },
        "outputId": "a93f95ab-02b2-457e-919c-5170fd3f8f7a"
      },
      "source": [
        "momento_inicio = datetime.now() \n",
        "for i in range(M): # passo M\n",
        "  for j in range(N): # passo N\n",
        "    # para a variável de decisão x\n",
        "    rand_num_x_1 = np.random.rand() # aumenta ou diminui x?\n",
        "    rand_num_x_2 = np.random.rand() # por quanto?\n",
        "    if rand_num_x_1 >= 0.5:\n",
        "      step_size_x = k * rand_num_x_2 # aumenta\n",
        "    else:\n",
        "      step_size_x = -k * rand_num_x_2 # diminui\n",
        "    # para a variável de decisão y\n",
        "    rand_num_y_1 = np.random.rand() # aumenta ou diminui y?\n",
        "    rand_num_y_2 = np.random.rand() # por quanto?\n",
        "    if rand_num_y_1 >= 0.5:\n",
        "      step_size_y = k * rand_num_y_2 # aumenta\n",
        "    else:\n",
        "      step_size_y = -k * rand_num_y_2 # diminui\n",
        "    # criando valores temporários de x e y: antes de acatá-lo preciso testar\n",
        "    x_temporary = x + step_size_x # atualiza x temporário\n",
        "    y_temporary = y + step_size_y # atualiza y temporário\n",
        "    # o possível movimento com os valores temporários:\n",
        "    obj_val_possible = ((x_temporary**2)+y_temporary-11)**2+(x_temporary+(y_temporary**2)-7)**2\n",
        "    # os valores atuais:\n",
        "    obj_val_current = ((x**2)+y-11)**2+(x+(y**2)-7)**2\n",
        "    # no caso da solução temporária ser pior, preciso verificar se vou acatá-la ou não:\n",
        "    rand_num = np.random.rand()\n",
        "    # a formula abaixo vai nos dizer, caso a solução temporária seja pior, se vou acatá-la ou não:\n",
        "    # quanto mais próximo do final da busca (mais baixa a temperatura T0), menos provável de aceitar uma solução pior,\n",
        "    # porque é mais provável que o número aleatório seja maior\n",
        "    formula = 1/(np.exp((obj_val_possible - obj_val_current)/T0))\n",
        "    # antes de usar a fórmula acima para a decisão, entretanto, é necessário testar a solução temporária, pois, caso\n",
        "    # ela seja melhor que a atual, será acatada de imediato.\n",
        "    if obj_val_possible <= obj_val_current: # <= porque é um problema de minimização\n",
        "      x = x_temporary\n",
        "      y = y_temporary\n",
        "    elif rand_num <= formula: # se a solução temporária é pior que a solução atual, será acatada mesmo sendo pior\n",
        "      x = x_temporary\n",
        "      y = y_temporary   \n",
        "    else: \n",
        "      x = x\n",
        "      y = y\n",
        "  temp.append(T0) # anexa a temperatura para fim de plotagem\n",
        "  obj_val.append(obj_val_current) # anexa o valor da função objetiva para fim de plotagem \n",
        "  T0 = alpha * T0 # quando rodo um certo m, preciso baixar a temperatura pelo fator alpha antes de continuar\n",
        "\n",
        "print()\n",
        "print(\"momento do início:\", momento_inicio)\n",
        "print(\"tempo gasto de processamento:\", datetime.now() - momento_inicio)\n",
        "print()\n",
        "print(\"O x final é: %0.3f\" %x)\n",
        "print(\"O y final é: %0.3f\" %y)\n",
        "print(\"O z final é: %0.3f\" % obj_val_current)\n",
        "print()\n",
        "print('--------------------------------------')\n",
        "\n",
        "plt.plot(temp, obj_val)\n",
        "plt.title(\"Z at Temperature Values\", fontsize = 20, fontweight = 'bold')\n",
        "plt.xlabel(\"Temperature\", fontsize = 18, fontweight = 'bold')\n",
        "plt.ylabel(\"Z\", fontsize = 18, fontweight = 'bold')\n",
        "plt.xlim(temp_for_plot, 0)"
      ],
      "execution_count": 8,
      "outputs": [
        {
          "output_type": "stream",
          "text": [
            "\n",
            "momento do início: 2021-02-10 12:57:14.019587\n",
            "tempo gasto de processamento: 0:00:00.032270\n",
            "\n",
            "O x final é: 3.001\n",
            "O y final é: 2.000\n",
            "O z final é: 0.000\n",
            "\n",
            "--------------------------------------\n"
          ],
          "name": "stdout"
        },
        {
          "output_type": "stream",
          "text": [
            "/usr/local/lib/python3.6/dist-packages/ipykernel_launcher.py:30: RuntimeWarning: overflow encountered in exp\n"
          ],
          "name": "stderr"
        },
        {
          "output_type": "execute_result",
          "data": {
            "text/plain": [
              "(1000.0, 0.0)"
            ]
          },
          "metadata": {
            "tags": []
          },
          "execution_count": 8
        },
        {
          "output_type": "display_data",
          "data": {
            "image/png": "[encoded data removed]",
            "text/plain": [
              "<Figure size 432x288 with 1 Axes>"
            ]
          },
          "metadata": {
            "tags": [],
            "needs_background": "light"
          }
        }
      ]
    }
  ]
}